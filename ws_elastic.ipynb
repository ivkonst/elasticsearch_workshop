{
 "cells": [
  {
   "cell_type": "markdown",
   "metadata": {},
   "source": [
    "Импорты"
   ]
  },
  {
   "cell_type": "code",
   "execution_count": 1,
   "metadata": {},
   "outputs": [],
   "source": [
    "from datetime import datetime\n",
    "\n",
    "from requester import Requester"
   ]
  },
  {
   "cell_type": "markdown",
   "metadata": {},
   "source": [
    "Проверяем работоспособность эластика"
   ]
  },
  {
   "cell_type": "code",
   "execution_count": 2,
   "metadata": {},
   "outputs": [],
   "source": [
    "es_url = 'http://localhost:9200'\n",
    "es = Requester(url=es_url)"
   ]
  },
  {
   "cell_type": "code",
   "execution_count": 3,
   "metadata": {},
   "outputs": [
    {
     "data": {
      "text/plain": [
       "{'name': 'MacBook-Air-Konstantin.local',\n",
       " 'cluster_name': 'elasticsearch_konstantinivanov',\n",
       " 'cluster_uuid': '2bL4LnIpRRSXbzu2eM_GRQ',\n",
       " 'version': {'number': '7.5.2',\n",
       "  'build_flavor': 'default',\n",
       "  'build_type': 'tar',\n",
       "  'build_hash': '8bec50e1e0ad29dad5653712cf3bb580cd1afcdf',\n",
       "  'build_date': '2020-01-15T12:11:52.313576Z',\n",
       "  'build_snapshot': False,\n",
       "  'lucene_version': '8.3.0',\n",
       "  'minimum_wire_compatibility_version': '6.8.0',\n",
       "  'minimum_index_compatibility_version': '6.0.0-beta1'},\n",
       " 'tagline': 'You Know, for Search'}"
      ]
     },
     "execution_count": 3,
     "metadata": {},
     "output_type": "execute_result"
    }
   ],
   "source": [
    "es.get()"
   ]
  },
  {
   "cell_type": "markdown",
   "metadata": {},
   "source": [
    "## Индексация\n",
    "\n",
    "[Проиндексируем](https://www.elastic.co/guide/en/elasticsearch/reference/current/indices-create-index.html) один документ (в нашем случае  - это чек)"
   ]
  },
  {
   "cell_type": "code",
   "execution_count": 4,
   "metadata": {},
   "outputs": [],
   "source": [
    "doc = {\n",
    "    \"text\": \"Молоко ДВД 0.97л\",\n",
    "    \"type\": \"молоко\",\n",
    "    \"brand\": \"Домик в Деревне\",\n",
    "    \"published_at\": datetime.now().strftime(\"%Y-%m-%d\")\n",
    "}"
   ]
  },
  {
   "cell_type": "markdown",
   "metadata": {},
   "source": [
    "Положим документ в подходящее место  \n",
    "Структура данных \n",
    "* __index_ - по смыслу База Данных, например, **receipts**\n",
    "* __type_ - по смыслу Таблица, например, **raw**\n",
    "* __id_ - айди документа, например, **1**\n",
    "\n",
    "data\n",
    "* документ"
   ]
  },
  {
   "cell_type": "code",
   "execution_count": 5,
   "metadata": {},
   "outputs": [
    {
     "data": {
      "text/plain": [
       "{'_index': 'receipts',\n",
       " '_type': '_doc',\n",
       " '_id': '1',\n",
       " '_version': 1,\n",
       " 'result': 'created',\n",
       " '_shards': {'total': 2, 'successful': 1, 'failed': 0},\n",
       " '_seq_no': 0,\n",
       " '_primary_term': 1}"
      ]
     },
     "execution_count": 5,
     "metadata": {},
     "output_type": "execute_result"
    }
   ],
   "source": [
    "es.put(path='receipts/_doc/1', data=doc)"
   ]
  },
  {
   "cell_type": "markdown",
   "metadata": {},
   "source": [
    "Посмотрим на созданный индекс"
   ]
  },
  {
   "cell_type": "code",
   "execution_count": 6,
   "metadata": {},
   "outputs": [
    {
     "name": "stdout",
     "output_type": "stream",
     "text": [
      "yellow open receipts xCImHOQfTKKGkMIaQEnfiw 1 1 1 0 5.1kb 5.1kb\n",
      "\n"
     ]
    }
   ],
   "source": [
    "es.get(path='_cat/indices')"
   ]
  },
  {
   "cell_type": "markdown",
   "metadata": {},
   "source": [
    "Посмотрим на созданный маппинг"
   ]
  },
  {
   "cell_type": "code",
   "execution_count": 7,
   "metadata": {},
   "outputs": [
    {
     "data": {
      "text/plain": [
       "{'receipts': {'mappings': {'properties': {'brand': {'type': 'text',\n",
       "     'fields': {'keyword': {'type': 'keyword', 'ignore_above': 256}}},\n",
       "    'published_at': {'type': 'date'},\n",
       "    'text': {'type': 'text',\n",
       "     'fields': {'keyword': {'type': 'keyword', 'ignore_above': 256}}},\n",
       "    'type': {'type': 'text',\n",
       "     'fields': {'keyword': {'type': 'keyword', 'ignore_above': 256}}}}}}}"
      ]
     },
     "execution_count": 7,
     "metadata": {},
     "output_type": "execute_result"
    }
   ],
   "source": [
    "es.get(path='receipts/_mapping?pretty')"
   ]
  },
  {
   "cell_type": "markdown",
   "metadata": {},
   "source": [
    "## Запросы\n",
    "\n",
    "[Запрос](https://www.elastic.co/guide/en/elasticsearch/reference/current/indices-get-index.html) документов по их id"
   ]
  },
  {
   "cell_type": "code",
   "execution_count": 8,
   "metadata": {},
   "outputs": [
    {
     "data": {
      "text/plain": [
       "{'_index': 'receipts',\n",
       " '_type': '_doc',\n",
       " '_id': '1',\n",
       " '_version': 1,\n",
       " '_seq_no': 0,\n",
       " '_primary_term': 1,\n",
       " 'found': True,\n",
       " '_source': {'text': 'Молоко ДВД 0.97л',\n",
       "  'type': 'молоко',\n",
       "  'brand': 'Домик в Деревне',\n",
       "  'published_at': '2020-02-17'}}"
      ]
     },
     "execution_count": 8,
     "metadata": {},
     "output_type": "execute_result"
    }
   ],
   "source": [
    "es.get(path='receipts/_doc/1')"
   ]
  },
  {
   "cell_type": "markdown",
   "metadata": {},
   "source": [
    "Или только документ без дополнительной информации"
   ]
  },
  {
   "cell_type": "code",
   "execution_count": 9,
   "metadata": {},
   "outputs": [
    {
     "data": {
      "text/plain": [
       "{'text': 'Молоко ДВД 0.97л',\n",
       " 'type': 'молоко',\n",
       " 'brand': 'Домик в Деревне',\n",
       " 'published_at': '2020-02-17'}"
      ]
     },
     "execution_count": 9,
     "metadata": {},
     "output_type": "execute_result"
    }
   ],
   "source": [
    "es.get(path='receipts/_doc/1/_source')"
   ]
  },
  {
   "cell_type": "markdown",
   "metadata": {},
   "source": [
    "Проиндексируем еще несколько документов"
   ]
  },
  {
   "cell_type": "code",
   "execution_count": 10,
   "metadata": {},
   "outputs": [
    {
     "data": {
      "text/plain": [
       "{'_index': 'receipts',\n",
       " '_type': '_doc',\n",
       " '_id': '3',\n",
       " '_version': 1,\n",
       " 'result': 'created',\n",
       " '_shards': {'total': 2, 'successful': 1, 'failed': 0},\n",
       " '_seq_no': 2,\n",
       " '_primary_term': 1}"
      ]
     },
     "execution_count": 10,
     "metadata": {},
     "output_type": "execute_result"
    }
   ],
   "source": [
    "doc = {\n",
    "    \"text\": \"Молочко для тела GARNIER\",\n",
    "    \"type\": \"молочко\",\n",
    "    \"brand\": \"GARNIER\",\n",
    "    \"published_at\": datetime.now().strftime(\"%Y-%m-%d\")\n",
    "}\n",
    "es.put(path='receipts/_doc/2', data=doc)\n",
    "\n",
    "doc = {\n",
    "    \"text\": \"Крем для тела GARNIER\",\n",
    "    \"type\": \"крем\",\n",
    "    \"brand\": \"GARNIER\",\n",
    "    \"published_at\": datetime.now().strftime(\"%Y-%m-%d\")\n",
    "}\n",
    "es.put(path='receipts/_doc/3', data=doc)"
   ]
  },
  {
   "cell_type": "markdown",
   "metadata": {},
   "source": [
    "Посмотрим на индекс"
   ]
  },
  {
   "cell_type": "code",
   "execution_count": 11,
   "metadata": {},
   "outputs": [
    {
     "name": "stdout",
     "output_type": "stream",
     "text": [
      "yellow open receipts xCImHOQfTKKGkMIaQEnfiw 1 1 3 0 5.1kb 5.1kb\n",
      "\n"
     ]
    }
   ],
   "source": [
    "es.get(path='_cat/indices')"
   ]
  },
  {
   "cell_type": "markdown",
   "metadata": {},
   "source": [
    "[**Boolean query**](https://www.elastic.co/guide/en/elasticsearch/reference/current/query-dsl-bool-query.html) - один из основных типов запросов\n",
    "* _must_ - \"обязательные условия\", объединяются через И, влияют на __score_\n",
    "* _filter_ - фильтры, не влияют на __score_\n",
    "* _should_ - \"желательные условия\", объединяются через ИЛИ, влияют на __score_\n",
    "* _must_not_ - условия для исключений, обнуляют __score_"
   ]
  },
  {
   "cell_type": "markdown",
   "metadata": {},
   "source": [
    "Must"
   ]
  },
  {
   "cell_type": "code",
   "execution_count": 12,
   "metadata": {},
   "outputs": [
    {
     "data": {
      "text/plain": [
       "{'took': 3,\n",
       " 'timed_out': False,\n",
       " '_shards': {'total': 1, 'successful': 1, 'skipped': 0, 'failed': 0},\n",
       " 'hits': {'total': {'value': 1, 'relation': 'eq'},\n",
       "  'max_score': 1.0596458,\n",
       "  'hits': [{'_index': 'receipts',\n",
       "    '_type': '_doc',\n",
       "    '_id': '1',\n",
       "    '_score': 1.0596458,\n",
       "    '_source': {'text': 'Молоко ДВД 0.97л', 'published_at': '2020-02-17'}}]}}"
      ]
     },
     "execution_count": 12,
     "metadata": {},
     "output_type": "execute_result"
    }
   ],
   "source": [
    "query = {\n",
    "    \"_source\": [\"text\", \"published_at\"],\n",
    "    \"query\": {\n",
    "        \"bool\": {\n",
    "            \"must\": [{\n",
    "                \"match\": {\n",
    "                    \"text\": \"молоко\"\n",
    "                }\n",
    "            }]\n",
    "        }\n",
    "    }\n",
    "}\n",
    "\n",
    "es.get(path='receipts/_doc/_search', data=query)"
   ]
  },
  {
   "cell_type": "code",
   "execution_count": 13,
   "metadata": {},
   "outputs": [
    {
     "data": {
      "text/plain": [
       "{'took': 2,\n",
       " 'timed_out': False,\n",
       " '_shards': {'total': 1, 'successful': 1, 'skipped': 0, 'failed': 0},\n",
       " 'hits': {'total': {'value': 0, 'relation': 'eq'},\n",
       "  'max_score': None,\n",
       "  'hits': []}}"
      ]
     },
     "execution_count": 13,
     "metadata": {},
     "output_type": "execute_result"
    }
   ],
   "source": [
    "query = {\n",
    "    \"_source\": [\"text\", \"published_at\"],\n",
    "    \"query\": {\n",
    "        \"bool\": {\n",
    "            \"must\": [\n",
    "                {\n",
    "                    \"match\": {\n",
    "                        \"text\": \"молоко\"\n",
    "                    }\n",
    "                },\n",
    "                {\n",
    "                    \"match\": {\n",
    "                        \"text\": \"молочко\"\n",
    "                    }\n",
    "                },\n",
    "            ]\n",
    "        }\n",
    "    }\n",
    "}\n",
    "\n",
    "es.get(path='receipts/_doc/_search', data=query)"
   ]
  },
  {
   "cell_type": "markdown",
   "metadata": {},
   "source": [
    "Filter"
   ]
  },
  {
   "cell_type": "code",
   "execution_count": 14,
   "metadata": {},
   "outputs": [
    {
     "data": {
      "text/plain": [
       "{'took': 6,\n",
       " 'timed_out': False,\n",
       " '_shards': {'total': 1, 'successful': 1, 'skipped': 0, 'failed': 0},\n",
       " 'hits': {'total': {'value': 1, 'relation': 'eq'},\n",
       "  'max_score': 0.0,\n",
       "  'hits': [{'_index': 'receipts',\n",
       "    '_type': '_doc',\n",
       "    '_id': '1',\n",
       "    '_score': 0.0,\n",
       "    '_source': {'text': 'Молоко ДВД 0.97л', 'published_at': '2020-02-17'}}]}}"
      ]
     },
     "execution_count": 14,
     "metadata": {},
     "output_type": "execute_result"
    }
   ],
   "source": [
    "query = {\n",
    "    \"_source\": [\"text\", \"published_at\"],\n",
    "    \"query\": {\n",
    "        \"bool\": {\n",
    "            \"filter\": [{\n",
    "                \"match\": {\n",
    "                    \"text\": \"молоко\"\n",
    "                }\n",
    "            }]\n",
    "        }\n",
    "    }\n",
    "}\n",
    "\n",
    "es.get(path='receipts/_doc/_search', data=query)"
   ]
  },
  {
   "cell_type": "markdown",
   "metadata": {},
   "source": [
    "Should"
   ]
  },
  {
   "cell_type": "code",
   "execution_count": 15,
   "metadata": {},
   "outputs": [
    {
     "data": {
      "text/plain": [
       "{'took': 3,\n",
       " 'timed_out': False,\n",
       " '_shards': {'total': 1, 'successful': 1, 'skipped': 0, 'failed': 0},\n",
       " 'hits': {'total': {'value': 2, 'relation': 'eq'},\n",
       "  'max_score': 1.0596458,\n",
       "  'hits': [{'_index': 'receipts',\n",
       "    '_type': '_doc',\n",
       "    '_id': '1',\n",
       "    '_score': 1.0596458,\n",
       "    '_source': {'text': 'Молоко ДВД 0.97л', 'published_at': '2020-02-17'}},\n",
       "   {'_index': 'receipts',\n",
       "    '_type': '_doc',\n",
       "    '_id': '2',\n",
       "    '_score': 0.94566005,\n",
       "    '_source': {'text': 'Молочко для тела GARNIER',\n",
       "     'published_at': '2020-02-17'}}]}}"
      ]
     },
     "execution_count": 15,
     "metadata": {},
     "output_type": "execute_result"
    }
   ],
   "source": [
    "query = {\n",
    "    \"_source\": [\"text\", \"published_at\"],\n",
    "    \"query\": {\n",
    "        \"bool\": {\n",
    "            \"should\": [\n",
    "                {\n",
    "                    \"match\": {\n",
    "                        \"text\": \"молоко\"\n",
    "                    }\n",
    "                },\n",
    "                {\n",
    "                    \"match\": {\n",
    "                        \"text\": \"молочко\"\n",
    "                    }\n",
    "                },\n",
    "            ]\n",
    "        }\n",
    "    }\n",
    "}\n",
    "\n",
    "es.get(path='receipts/_doc/_search', data=query)"
   ]
  },
  {
   "cell_type": "markdown",
   "metadata": {},
   "source": [
    "[**Match query**](https://www.elastic.co/guide/en/elasticsearch/reference/current/query-dsl-match-query.html) - полнотекстовый поиск, который мы использовали выше  \n",
    "(основные параметры)\n",
    "* _query_\n",
    "* _analyzer_\n",
    "* _operator_"
   ]
  },
  {
   "cell_type": "markdown",
   "metadata": {},
   "source": [
    "## Анализаторы"
   ]
  },
  {
   "cell_type": "markdown",
   "metadata": {},
   "source": [
    "По умолчанию эластик использует [стандартный анализатор](https://www.elastic.co/guide/en/elasticsearch/reference/current/analysis-standard-analyzer.html)"
   ]
  },
  {
   "cell_type": "code",
   "execution_count": 16,
   "metadata": {},
   "outputs": [
    {
     "data": {
      "text/plain": [
       "{'tokens': [{'token': 'ёмкость',\n",
       "   'start_offset': 0,\n",
       "   'end_offset': 7,\n",
       "   'type': '<ALPHANUM>',\n",
       "   'position': 0},\n",
       "  {'token': 'для',\n",
       "   'start_offset': 8,\n",
       "   'end_offset': 11,\n",
       "   'type': '<ALPHANUM>',\n",
       "   'position': 1},\n",
       "  {'token': 'воды',\n",
       "   'start_offset': 12,\n",
       "   'end_offset': 16,\n",
       "   'type': '<ALPHANUM>',\n",
       "   'position': 2}]}"
      ]
     },
     "execution_count": 16,
     "metadata": {},
     "output_type": "execute_result"
    }
   ],
   "source": [
    "text = {\n",
    "    \"analyzer\": \"standard\",\n",
    "    \"text\": \"Ёмкость для воды\"\n",
    "}\n",
    "\n",
    "es.post(path='_analyze', data=text)"
   ]
  },
  {
   "cell_type": "markdown",
   "metadata": {},
   "source": [
    "Есть и стандартный [русский анализатор](https://www.elastic.co/guide/en/elasticsearch/reference/current/analysis-lang-analyzer.html#russian-analyzer)"
   ]
  },
  {
   "cell_type": "code",
   "execution_count": 17,
   "metadata": {},
   "outputs": [
    {
     "data": {
      "text/plain": [
       "{'tokens': [{'token': 'ёмкост',\n",
       "   'start_offset': 0,\n",
       "   'end_offset': 7,\n",
       "   'type': '<ALPHANUM>',\n",
       "   'position': 0},\n",
       "  {'token': 'вод',\n",
       "   'start_offset': 12,\n",
       "   'end_offset': 16,\n",
       "   'type': '<ALPHANUM>',\n",
       "   'position': 2}]}"
      ]
     },
     "execution_count": 17,
     "metadata": {},
     "output_type": "execute_result"
    }
   ],
   "source": [
    "text = {\n",
    "    \"analyzer\": \"russian\",\n",
    "    \"text\": \"Ёмкость для воды\"\n",
    "}\n",
    "\n",
    "es.post(path='_analyze', data=text)"
   ]
  },
  {
   "cell_type": "markdown",
   "metadata": {},
   "source": [
    "Напишем свой анализатор"
   ]
  },
  {
   "cell_type": "code",
   "execution_count": 18,
   "metadata": {},
   "outputs": [],
   "source": [
    "analyzer_custom = {\n",
    "    \"filter\": {\n",
    "        \"russian_stop\": {\n",
    "            \"type\":       \"stop\",\n",
    "            \"stopwords\":  \"_russian_\" \n",
    "        },\n",
    "        \"russian_stemmer\": {\n",
    "            \"type\":       \"stemmer\",\n",
    "            \"language\":   \"russian\"\n",
    "        },\n",
    "    },\n",
    "    \"char_filter\": {\n",
    "        \"e_char_filter\": {\n",
    "            \"type\": \"mapping\",\n",
    "            \"mappings\": [\n",
    "                \"ё => е\",\n",
    "                \"Ё => Е\"\n",
    "            ]\n",
    "        }\n",
    "    },\n",
    "    \"analyzer\": {\n",
    "        \"analyzer_cus\": {\n",
    "            \"tokenizer\":  \"standard\",\n",
    "            \"char_filter\": [\n",
    "                \"e_char_filter\"\n",
    "            ],\n",
    "            \"filter\": [\n",
    "                \"lowercase\",\n",
    "                \"russian_stop\",\n",
    "                \"russian_stemmer\",\n",
    "            ]\n",
    "        }\n",
    "    }\n",
    "}"
   ]
  },
  {
   "cell_type": "markdown",
   "metadata": {},
   "source": [
    "Создадим индекс с новым анализатором"
   ]
  },
  {
   "cell_type": "code",
   "execution_count": 19,
   "metadata": {},
   "outputs": [
    {
     "data": {
      "text/plain": [
       "{'acknowledged': True, 'shards_acknowledged': True, 'index': 'receipts_cus'}"
      ]
     },
     "execution_count": 19,
     "metadata": {},
     "output_type": "execute_result"
    }
   ],
   "source": [
    "settings = {\n",
    "    \"settings\": {\n",
    "        \"analysis\": analyzer_custom\n",
    "    },\n",
    "    \"mappings\": {\n",
    "        \"properties\": {\n",
    "            \"text\": {\n",
    "                \"type\": \"text\",\n",
    "                \"analyzer\": \"analyzer_cus\"\n",
    "            },\n",
    "            \"type\": {\n",
    "                \"type\": \"text\",\n",
    "                \"analyzer\": \"analyzer_cus\"\n",
    "            },\n",
    "            \"brand\": {\n",
    "                \"type\": \"text\",\n",
    "                \"analyzer\": \"analyzer_cus\"\n",
    "            },\n",
    "            \"published_at\": {\n",
    "                \"type\": \"date\"\n",
    "            }\n",
    "        }\n",
    "    }\n",
    "}\n",
    "\n",
    "es.put(path='receipts_cus', data=settings)"
   ]
  },
  {
   "cell_type": "code",
   "execution_count": 20,
   "metadata": {},
   "outputs": [
    {
     "data": {
      "text/plain": [
       "{'tokens': [{'token': 'емкост',\n",
       "   'start_offset': 0,\n",
       "   'end_offset': 7,\n",
       "   'type': '<ALPHANUM>',\n",
       "   'position': 0},\n",
       "  {'token': 'вод',\n",
       "   'start_offset': 12,\n",
       "   'end_offset': 16,\n",
       "   'type': '<ALPHANUM>',\n",
       "   'position': 2}]}"
      ]
     },
     "execution_count": 20,
     "metadata": {},
     "output_type": "execute_result"
    }
   ],
   "source": [
    "text = {\n",
    "    \"analyzer\": \"analyzer_cus\",\n",
    "    \"text\": \"Ёмкость для воды\"\n",
    "}\n",
    "\n",
    "es.post(path='receipts_cus/_analyze', data=text)"
   ]
  },
  {
   "cell_type": "markdown",
   "metadata": {},
   "source": [
    "Положим в него документы"
   ]
  },
  {
   "cell_type": "code",
   "execution_count": 21,
   "metadata": {},
   "outputs": [
    {
     "data": {
      "text/plain": [
       "{'_index': 'receipts_cus',\n",
       " '_type': '_doc',\n",
       " '_id': '2',\n",
       " '_version': 1,\n",
       " 'result': 'created',\n",
       " '_shards': {'total': 2, 'successful': 1, 'failed': 0},\n",
       " '_seq_no': 1,\n",
       " '_primary_term': 1}"
      ]
     },
     "execution_count": 21,
     "metadata": {},
     "output_type": "execute_result"
    }
   ],
   "source": [
    "doc = {\n",
    "    \"text\": \"Емкость для порошка\",\n",
    "    \"type\": \"емкость\",\n",
    "    \"brand\": \"no_name\",\n",
    "    \"published_at\": datetime.now().strftime(\"%Y-%m-%d\")\n",
    "}\n",
    "es.put(path='receipts_cus/_doc/1', data=doc)\n",
    "\n",
    "doc = {\n",
    "    \"text\": \"Ёмкость для воды\",\n",
    "    \"type\": \"емкость\",\n",
    "    \"brand\": \"no_name\",\n",
    "    \"published_at\": datetime.now().strftime(\"%Y-%m-%d\")\n",
    "}\n",
    "es.put(path='receipts_cus/_doc/2', data=doc)"
   ]
  },
  {
   "cell_type": "markdown",
   "metadata": {},
   "source": [
    "Сделаем **match** запрос"
   ]
  },
  {
   "cell_type": "code",
   "execution_count": 22,
   "metadata": {},
   "outputs": [
    {
     "data": {
      "text/plain": [
       "{'took': 8,\n",
       " 'timed_out': False,\n",
       " '_shards': {'total': 1, 'successful': 1, 'skipped': 0, 'failed': 0},\n",
       " 'hits': {'total': {'value': 2, 'relation': 'eq'},\n",
       "  'max_score': 0.18232156,\n",
       "  'hits': [{'_index': 'receipts_cus',\n",
       "    '_type': '_doc',\n",
       "    '_id': '1',\n",
       "    '_score': 0.18232156,\n",
       "    '_source': {'text': 'Емкость для порошка', 'published_at': '2020-02-17'}},\n",
       "   {'_index': 'receipts_cus',\n",
       "    '_type': '_doc',\n",
       "    '_id': '2',\n",
       "    '_score': 0.18232156,\n",
       "    '_source': {'text': 'Ёмкость для воды', 'published_at': '2020-02-17'}}]}}"
      ]
     },
     "execution_count": 22,
     "metadata": {},
     "output_type": "execute_result"
    }
   ],
   "source": [
    "query = {\n",
    "    \"_source\": [\"text\", \"published_at\"],\n",
    "    \"query\": {\n",
    "        \"match\": {\n",
    "            \"text\": {\n",
    "                \"query\": \"емкость\"\n",
    "            }\n",
    "        }\n",
    "    }\n",
    "}\n",
    "\n",
    "es.get(path='receipts_cus/_doc/_search', data=query)"
   ]
  },
  {
   "cell_type": "markdown",
   "metadata": {},
   "source": [
    "[**Query string**](https://www.elastic.co/guide/en/elasticsearch/reference/current/query-dsl-query-string-query.html) - Полнотекстовый поиск c использованием логических операций"
   ]
  },
  {
   "cell_type": "code",
   "execution_count": 23,
   "metadata": {},
   "outputs": [
    {
     "data": {
      "text/plain": [
       "{'took': 5,\n",
       " 'timed_out': False,\n",
       " '_shards': {'total': 1, 'successful': 1, 'skipped': 0, 'failed': 0},\n",
       " 'hits': {'total': {'value': 1, 'relation': 'eq'},\n",
       "  'max_score': 0.18232156,\n",
       "  'hits': [{'_index': 'receipts_cus',\n",
       "    '_type': '_doc',\n",
       "    '_id': '1',\n",
       "    '_score': 0.18232156,\n",
       "    '_source': {'text': 'Емкость для порошка',\n",
       "     'type': 'емкость',\n",
       "     'brand': 'no_name',\n",
       "     'published_at': '2020-02-17'}}]}}"
      ]
     },
     "execution_count": 23,
     "metadata": {},
     "output_type": "execute_result"
    }
   ],
   "source": [
    "query = {\n",
    "    \"query\": {\n",
    "        \"query_string\": {\n",
    "            \"query\": \"ёмкость -вода\",\n",
    "            \"fields\": [\n",
    "                \"text\"\n",
    "            ]\n",
    "        }\n",
    "    }\n",
    "}\n",
    "es.post(path='receipts_cus/_doc/_search', data=query)"
   ]
  },
  {
   "cell_type": "markdown",
   "metadata": {},
   "source": [
    "## Удаление индекса"
   ]
  },
  {
   "cell_type": "code",
   "execution_count": 24,
   "metadata": {},
   "outputs": [
    {
     "name": "stdout",
     "output_type": "stream",
     "text": [
      "yellow open receipts     xCImHOQfTKKGkMIaQEnfiw 1 1 3 0 10.2kb 10.2kb\n",
      "yellow open receipts_cus q5wPjFksS_qZ78VqGTUFdg 1 1 2 0  3.8kb  3.8kb\n",
      "\n"
     ]
    }
   ],
   "source": [
    "es.get(path='_cat/indices')"
   ]
  },
  {
   "cell_type": "markdown",
   "metadata": {},
   "source": [
    "Удалим индекс"
   ]
  },
  {
   "cell_type": "code",
   "execution_count": 25,
   "metadata": {},
   "outputs": [
    {
     "data": {
      "text/plain": [
       "{'acknowledged': True}"
      ]
     },
     "execution_count": 25,
     "metadata": {},
     "output_type": "execute_result"
    }
   ],
   "source": [
    "es.delete('receipts')\n",
    "es.delete('receipts_cus')"
   ]
  },
  {
   "cell_type": "code",
   "execution_count": 26,
   "metadata": {},
   "outputs": [
    {
     "name": "stdout",
     "output_type": "stream",
     "text": [
      "\n"
     ]
    }
   ],
   "source": [
    "es.get(path='_cat/indices')"
   ]
  },
  {
   "cell_type": "markdown",
   "metadata": {},
   "source": [
    "## Допы"
   ]
  },
  {
   "cell_type": "markdown",
   "metadata": {},
   "source": [
    "Что посмотреть про эластик  \n",
    "* [Основы Elasticsearch / Хабр](https://habr.com/ru/post/280488/) - использовал отсюда идеи для семинара  \n",
    "* [Elasticsearch tutorial for beginners using Python / Medium](https://medium.com/naukri-engineering/elasticsearch-tutorial-for-beginners-using-python-b9cb48edcedc)\n",
    "* [Документация Elasticsearch](https://www.elastic.co/guide/en/elasticsearch/reference/7.5/rest-apis.html)\n",
    "\n",
    "Разное\n",
    "* [Convert curl syntax to Python](https://curl.trillworks.com)"
   ]
  },
  {
   "cell_type": "code",
   "execution_count": null,
   "metadata": {},
   "outputs": [],
   "source": []
  }
 ],
 "metadata": {
  "kernelspec": {
   "display_name": "ws_elastic",
   "language": "python",
   "name": "ws_elastic"
  },
  "language_info": {
   "codemirror_mode": {
    "name": "ipython",
    "version": 3
   },
   "file_extension": ".py",
   "mimetype": "text/x-python",
   "name": "python",
   "nbconvert_exporter": "python",
   "pygments_lexer": "ipython3",
   "version": "3.6.7"
  }
 },
 "nbformat": 4,
 "nbformat_minor": 4
}
